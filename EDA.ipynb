{
 "cells": [
  {
   "cell_type": "markdown",
   "metadata": {},
   "source": [
    "## Data Challenge"
   ]
  },
  {
   "cell_type": "markdown",
   "metadata": {},
   "source": [
    "### Import Libraries"
   ]
  },
  {
   "cell_type": "code",
   "execution_count": 1,
   "metadata": {},
   "outputs": [],
   "source": [
    "import pandas as pd\n",
    "import numpy as np\n",
    "import matplotlib.pyplot as plt\n",
    "import seaborn as sns"
   ]
  },
  {
   "cell_type": "code",
   "execution_count": 2,
   "metadata": {},
   "outputs": [],
   "source": [
    "pd.set_option('display.max_rows', None)\n",
    "pd.set_option('display.max_columns', None)\n",
    "pd.set_option('mode.chained_assignment', None)"
   ]
  },
  {
   "cell_type": "markdown",
   "metadata": {},
   "source": [
    "### Q1.\tYou are tasked to explore the FICO dataset. Walk us through your process on the tasks below:\n",
    "    a.You need to think about cleaning the data first. Common data problems include duplicates, missing, and errors in the data. Mark rows with data problems as “Missing” in the FICO column."
   ]
  },
  {
   "cell_type": "markdown",
   "metadata": {},
   "source": [
    "### Import Data"
   ]
  },
  {
   "cell_type": "markdown",
   "metadata": {},
   "source": [
    "### FICO dataset"
   ]
  },
  {
   "cell_type": "code",
   "execution_count": 3,
   "metadata": {},
   "outputs": [
    {
     "data": {
      "text/plain": [
       "(100013, 2)"
      ]
     },
     "execution_count": 3,
     "metadata": {},
     "output_type": "execute_result"
    }
   ],
   "source": [
    "# Reading the FICO csv\n",
    "fico = pd.read_csv('D:/Anagha/Masters/NYU GSAS/Job Hunt/American Express/Campus Graduate - 2025 Data Science Finance Summer Internship New York, NY/Data Challenge/FDS_intern_written_test_data1_fico.csv')\n",
    "\n",
    "# There are 100013 records and 2 columns\n",
    "fico.shape"
   ]
  },
  {
   "cell_type": "code",
   "execution_count": 4,
   "metadata": {},
   "outputs": [
    {
     "data": {
      "text/html": [
       "<div>\n",
       "<style scoped>\n",
       "    .dataframe tbody tr th:only-of-type {\n",
       "        vertical-align: middle;\n",
       "    }\n",
       "\n",
       "    .dataframe tbody tr th {\n",
       "        vertical-align: top;\n",
       "    }\n",
       "\n",
       "    .dataframe thead th {\n",
       "        text-align: right;\n",
       "    }\n",
       "</style>\n",
       "<table border=\"1\" class=\"dataframe\">\n",
       "  <thead>\n",
       "    <tr style=\"text-align: right;\">\n",
       "      <th></th>\n",
       "      <th>acct_id</th>\n",
       "      <th>FICO</th>\n",
       "    </tr>\n",
       "  </thead>\n",
       "  <tbody>\n",
       "    <tr>\n",
       "      <th>0</th>\n",
       "      <td>1</td>\n",
       "      <td>768</td>\n",
       "    </tr>\n",
       "    <tr>\n",
       "      <th>1</th>\n",
       "      <td>2</td>\n",
       "      <td>850</td>\n",
       "    </tr>\n",
       "    <tr>\n",
       "      <th>2</th>\n",
       "      <td>3</td>\n",
       "      <td>677</td>\n",
       "    </tr>\n",
       "    <tr>\n",
       "      <th>3</th>\n",
       "      <td>4</td>\n",
       "      <td>843</td>\n",
       "    </tr>\n",
       "    <tr>\n",
       "      <th>4</th>\n",
       "      <td>5</td>\n",
       "      <td>796</td>\n",
       "    </tr>\n",
       "  </tbody>\n",
       "</table>\n",
       "</div>"
      ],
      "text/plain": [
       "   acct_id FICO\n",
       "0        1  768\n",
       "1        2  850\n",
       "2        3  677\n",
       "3        4  843\n",
       "4        5  796"
      ]
     },
     "execution_count": 4,
     "metadata": {},
     "output_type": "execute_result"
    }
   ],
   "source": [
    "#Head of the dataset\n",
    "fico.head()"
   ]
  },
  {
   "cell_type": "code",
   "execution_count": 5,
   "metadata": {},
   "outputs": [
    {
     "data": {
      "text/html": [
       "<div>\n",
       "<style scoped>\n",
       "    .dataframe tbody tr th:only-of-type {\n",
       "        vertical-align: middle;\n",
       "    }\n",
       "\n",
       "    .dataframe tbody tr th {\n",
       "        vertical-align: top;\n",
       "    }\n",
       "\n",
       "    .dataframe thead th {\n",
       "        text-align: right;\n",
       "    }\n",
       "</style>\n",
       "<table border=\"1\" class=\"dataframe\">\n",
       "  <thead>\n",
       "    <tr style=\"text-align: right;\">\n",
       "      <th></th>\n",
       "      <th>acct_id</th>\n",
       "      <th>FICO</th>\n",
       "    </tr>\n",
       "  </thead>\n",
       "  <tbody>\n",
       "    <tr>\n",
       "      <th>53254</th>\n",
       "      <td>53242</td>\n",
       "      <td>660</td>\n",
       "    </tr>\n",
       "    <tr>\n",
       "      <th>56240</th>\n",
       "      <td>56228</td>\n",
       "      <td>NaN</td>\n",
       "    </tr>\n",
       "    <tr>\n",
       "      <th>22954</th>\n",
       "      <td>22950</td>\n",
       "      <td>NaN</td>\n",
       "    </tr>\n",
       "    <tr>\n",
       "      <th>78524</th>\n",
       "      <td>78512</td>\n",
       "      <td>NaN</td>\n",
       "    </tr>\n",
       "    <tr>\n",
       "      <th>20934</th>\n",
       "      <td>20930</td>\n",
       "      <td>NaN</td>\n",
       "    </tr>\n",
       "  </tbody>\n",
       "</table>\n",
       "</div>"
      ],
      "text/plain": [
       "       acct_id FICO\n",
       "53254    53242  660\n",
       "56240    56228  NaN\n",
       "22954    22950  NaN\n",
       "78524    78512  NaN\n",
       "20934    20930  NaN"
      ]
     },
     "execution_count": 5,
     "metadata": {},
     "output_type": "execute_result"
    }
   ],
   "source": [
    "fico.sample(5)"
   ]
  },
  {
   "cell_type": "code",
   "execution_count": 6,
   "metadata": {},
   "outputs": [
    {
     "name": "stdout",
     "output_type": "stream",
     "text": [
      "<class 'pandas.core.frame.DataFrame'>\n",
      "RangeIndex: 100013 entries, 0 to 100012\n",
      "Data columns (total 2 columns):\n",
      " #   Column   Non-Null Count   Dtype \n",
      "---  ------   --------------   ----- \n",
      " 0   acct_id  100013 non-null  int64 \n",
      " 1   FICO     70398 non-null   object\n",
      "dtypes: int64(1), object(1)\n",
      "memory usage: 1.5+ MB\n"
     ]
    }
   ],
   "source": [
    "# acct_id is completely a numeric column and FICO has both numeric and non-numeric values\n",
    "fico.info()"
   ]
  },
  {
   "cell_type": "code",
   "execution_count": 7,
   "metadata": {},
   "outputs": [
    {
     "data": {
      "text/html": [
       "<div>\n",
       "<style scoped>\n",
       "    .dataframe tbody tr th:only-of-type {\n",
       "        vertical-align: middle;\n",
       "    }\n",
       "\n",
       "    .dataframe tbody tr th {\n",
       "        vertical-align: top;\n",
       "    }\n",
       "\n",
       "    .dataframe thead th {\n",
       "        text-align: right;\n",
       "    }\n",
       "</style>\n",
       "<table border=\"1\" class=\"dataframe\">\n",
       "  <thead>\n",
       "    <tr style=\"text-align: right;\">\n",
       "      <th></th>\n",
       "      <th>acct_id</th>\n",
       "    </tr>\n",
       "  </thead>\n",
       "  <tbody>\n",
       "    <tr>\n",
       "      <th>count</th>\n",
       "      <td>100013.000000</td>\n",
       "    </tr>\n",
       "    <tr>\n",
       "      <th>mean</th>\n",
       "      <td>49996.449842</td>\n",
       "    </tr>\n",
       "    <tr>\n",
       "      <th>std</th>\n",
       "      <td>28868.457180</td>\n",
       "    </tr>\n",
       "    <tr>\n",
       "      <th>min</th>\n",
       "      <td>1.000000</td>\n",
       "    </tr>\n",
       "    <tr>\n",
       "      <th>25%</th>\n",
       "      <td>24999.000000</td>\n",
       "    </tr>\n",
       "    <tr>\n",
       "      <th>50%</th>\n",
       "      <td>49994.000000</td>\n",
       "    </tr>\n",
       "    <tr>\n",
       "      <th>75%</th>\n",
       "      <td>74997.000000</td>\n",
       "    </tr>\n",
       "    <tr>\n",
       "      <th>max</th>\n",
       "      <td>100000.000000</td>\n",
       "    </tr>\n",
       "  </tbody>\n",
       "</table>\n",
       "</div>"
      ],
      "text/plain": [
       "             acct_id\n",
       "count  100013.000000\n",
       "mean    49996.449842\n",
       "std     28868.457180\n",
       "min         1.000000\n",
       "25%     24999.000000\n",
       "50%     49994.000000\n",
       "75%     74997.000000\n",
       "max    100000.000000"
      ]
     },
     "execution_count": 7,
     "metadata": {},
     "output_type": "execute_result"
    }
   ],
   "source": [
    "# Statistical info about numeric columns\n",
    "fico.describe()"
   ]
  },
  {
   "cell_type": "markdown",
   "metadata": {},
   "source": [
    "### Check if there are duplicates in acct_id, FICO columns"
   ]
  },
  {
   "cell_type": "code",
   "execution_count": 8,
   "metadata": {},
   "outputs": [
    {
     "name": "stdout",
     "output_type": "stream",
     "text": [
      "100000\n",
      "0\n"
     ]
    }
   ],
   "source": [
    "# There are 100000 unique account IDs and none of them as NAs\n",
    "print(fico['acct_id'].nunique())\n",
    "print(fico['acct_id'].isna().sum())"
   ]
  },
  {
   "cell_type": "markdown",
   "metadata": {},
   "source": [
    "#### There are no duplicates in acct_id column "
   ]
  },
  {
   "cell_type": "code",
   "execution_count": 9,
   "metadata": {},
   "outputs": [
    {
     "name": "stdout",
     "output_type": "stream",
     "text": [
      "377\n",
      "29615\n"
     ]
    }
   ],
   "source": [
    "# There are 377 unique FICO values and 29615 NAs\n",
    "print(fico['FICO'].nunique())\n",
    "print(fico['FICO'].isna().sum())"
   ]
  },
  {
   "cell_type": "markdown",
   "metadata": {},
   "source": [
    "#### There are 377 unique FICO values and huge number of NAs - 29615"
   ]
  },
  {
   "cell_type": "markdown",
   "metadata": {},
   "source": [
    "### Check if there are errors in the FICO column\n",
    "    FICO is a numeric column, check if there are any non-numeric values"
   ]
  },
  {
   "cell_type": "code",
   "execution_count": 10,
   "metadata": {
    "scrolled": true
   },
   "outputs": [
    {
     "data": {
      "text/plain": [
       "850    12061\n",
       "836      865\n",
       "845      836\n",
       "828      747\n",
       "841      668\n",
       "820      637\n",
       "839      625\n",
       "842      608\n",
       "838      599\n",
       "834      573\n",
       "837      572\n",
       "830      571\n",
       "827      570\n",
       "844      564\n",
       "835      564\n",
       "840      561\n",
       "831      559\n",
       "811      554\n",
       "849      546\n",
       "833      539\n",
       "843      534\n",
       "832      530\n",
       "848      528\n",
       "847      526\n",
       "829      521\n",
       "825      503\n",
       "793      497\n",
       "824      496\n",
       "822      486\n",
       "802      481\n",
       "823      481\n",
       "814      480\n",
       "821      474\n",
       "818      469\n",
       "819      467\n",
       "816      457\n",
       "785      451\n",
       "809      444\n",
       "826      441\n",
       "817      437\n",
       "808      421\n",
       "813      420\n",
       "767      419\n",
       "807      408\n",
       "812      408\n",
       "777      407\n",
       "815      405\n",
       "803      404\n",
       "806      402\n",
       "797      392\n",
       "801      391\n",
       "805      386\n",
       "799      371\n",
       "804      369\n",
       "788      368\n",
       "796      364\n",
       "792      358\n",
       "759      358\n",
       "786      356\n",
       "750      348\n",
       "800      345\n",
       "784      341\n",
       "768      335\n",
       "798      331\n",
       "790      330\n",
       "783      329\n",
       "773      326\n",
       "780      324\n",
       "781      323\n",
       "758      322\n",
       "789      322\n",
       "776      321\n",
       "766      321\n",
       "794      321\n",
       "765      315\n",
       "795      311\n",
       "771      306\n",
       "791      305\n",
       "778      305\n",
       "769      304\n",
       "782      303\n",
       "787      301\n",
       "770      301\n",
       "772      298\n",
       "732      294\n",
       "742      294\n",
       "775      292\n",
       "761      284\n",
       "746      281\n",
       "779      279\n",
       "755      276\n",
       "749      274\n",
       "762      273\n",
       "747      271\n",
       "748      266\n",
       "756      265\n",
       "764      265\n",
       "751      262\n",
       "763      262\n",
       "739      262\n",
       "745      261\n",
       "753      259\n",
       "760      258\n",
       "757      257\n",
       "740      255\n",
       "752      249\n",
       "754      247\n",
       "741      243\n",
       "743      243\n",
       "718      238\n",
       "744      233\n",
       "724      231\n",
       "735      229\n",
       "730      227\n",
       "716      223\n",
       "726      221\n",
       "734      220\n",
       "733      210\n",
       "725      209\n",
       "727      207\n",
       "728      202\n",
       "736      201\n",
       "731      197\n",
       "721      194\n",
       "720      193\n",
       "729      192\n",
       "723      191\n",
       "717      189\n",
       "722      185\n",
       "737      184\n",
       "710      184\n",
       "719      182\n",
       "714      181\n",
       "715      179\n",
       "707      177\n",
       "703      175\n",
       "712      174\n",
       "713      172\n",
       "708      171\n",
       "698      170\n",
       "694      167\n",
       "709      159\n",
       "705      157\n",
       "697      155\n",
       "691      152\n",
       "711      149\n",
       "706      147\n",
       "692      143\n",
       "704      140\n",
       "690      139\n",
       "693      136\n",
       "686      135\n",
       "689      134\n",
       "695      134\n",
       "701      133\n",
       "696      133\n",
       "699      130\n",
       "681      130\n",
       "700      130\n",
       "683      128\n",
       "678      124\n",
       "682      121\n",
       "684      120\n",
       "685      120\n",
       "670      117\n",
       "688      112\n",
       "676      108\n",
       "687      105\n",
       "673      105\n",
       "668      103\n",
       "677      102\n",
       "680      101\n",
       "667       97\n",
       "665       95\n",
       "679       95\n",
       "663       94\n",
       "674       93\n",
       "675       92\n",
       "662       90\n",
       "671       89\n",
       "669       86\n",
       "660       81\n",
       "672       80\n",
       "664       76\n",
       "657       73\n",
       "654       73\n",
       "646       72\n",
       "658       71\n",
       "655       70\n",
       "652       68\n",
       "661       68\n",
       "653       63\n",
       "649       62\n",
       "656       61\n",
       "659       60\n",
       "645       58\n",
       "648       58\n",
       "642       56\n",
       "651       55\n",
       "647       54\n",
       "641       50\n",
       "650       45\n",
       "635       43\n",
       "636       43\n",
       "644       42\n",
       "623       41\n",
       "634       41\n",
       "629       41\n",
       "638       41\n",
       "639       41\n",
       "633       41\n",
       "640       39\n",
       "631       39\n",
       "632       39\n",
       "637       39\n",
       "621       37\n",
       "628       36\n",
       "627       35\n",
       "624       33\n",
       "643       32\n",
       "618       31\n",
       "613       31\n",
       "622       29\n",
       "614       28\n",
       "617       28\n",
       "612       27\n",
       "626       27\n",
       "615       27\n",
       "619       27\n",
       "625       26\n",
       "620       25\n",
       "595       24\n",
       "598       24\n",
       "606       23\n",
       "611       23\n",
       "610       23\n",
       "600       22\n",
       "608       21\n",
       "603       21\n",
       "589       21\n",
       "605       21\n",
       "588       21\n",
       "616       20\n",
       "574       19\n",
       "599       19\n",
       "609       19\n",
       "601       19\n",
       "597       19\n",
       "607       18\n",
       "585       17\n",
       "556       17\n",
       "569       17\n",
       "604       17\n",
       "561       16\n",
       "573       16\n",
       "562       15\n",
       "584       15\n",
       "577       15\n",
       "602       15\n",
       "567       15\n",
       "581       15\n",
       "549       15\n",
       "576       15\n",
       "591       14\n",
       "564       14\n",
       "579       14\n",
       "560       14\n",
       "565       14\n",
       "572       13\n",
       "553       13\n",
       "587       13\n",
       "550       13\n",
       "546       13\n",
       "566       13\n",
       "557       13\n",
       "578       12\n",
       "592       12\n",
       "593       11\n",
       "518       11\n",
       "526       11\n",
       "568       11\n",
       "555       11\n",
       "575       11\n",
       "529       11\n",
       "554       11\n",
       "541       11\n",
       "590       11\n",
       "582       11\n",
       "596       11\n",
       "586       10\n",
       "580       10\n",
       "570       10\n",
       "583       10\n",
       "552       10\n",
       "559       10\n",
       "535       10\n",
       "536        9\n",
       "523        9\n",
       "571        9\n",
       "534        9\n",
       "542        9\n",
       "551        9\n",
       "493        8\n",
       "537        8\n",
       "513        8\n",
       "533        8\n",
       "539        7\n",
       "503        7\n",
       "545        7\n",
       "547        7\n",
       "563        7\n",
       "548        7\n",
       "538        7\n",
       "511        6\n",
       "516        6\n",
       "540        6\n",
       "544        6\n",
       "506        6\n",
       "521        6\n",
       "527        6\n",
       "509        6\n",
       "543        6\n",
       "512        5\n",
       "528        5\n",
       "531        5\n",
       "500        5\n",
       "519        5\n",
       "501        5\n",
       "515        5\n",
       "530        5\n",
       "491        5\n",
       "524        4\n",
       "520        4\n",
       "514        4\n",
       "517        4\n",
       "474        3\n",
       "499        3\n",
       "505        3\n",
       "525        3\n",
       "504        3\n",
       "466        3\n",
       "532        3\n",
       "479        3\n",
       "494        3\n",
       "471        3\n",
       "497        2\n",
       "472        2\n",
       "507        2\n",
       "502        2\n",
       "489        2\n",
       "482        2\n",
       "495        2\n",
       "483        2\n",
       "456        2\n",
       "475        1\n",
       "447        1\n",
       "496        1\n",
       "510        1\n",
       "439        1\n",
       "460        1\n",
       "462        1\n",
       "488        1\n",
       "440        1\n",
       "455        1\n",
       "433        1\n",
       "469        1\n",
       "485        1\n",
       "SSS        1\n",
       "487        1\n",
       "465        1\n",
       "AA         1\n",
       "508        1\n",
       "468        1\n",
       "420        1\n",
       "498        1\n",
       "492        1\n",
       "481        1\n",
       "Name: FICO, dtype: int64"
      ]
     },
     "execution_count": 10,
     "metadata": {},
     "output_type": "execute_result"
    }
   ],
   "source": [
    "fico['FICO'].value_counts()"
   ]
  },
  {
   "cell_type": "code",
   "execution_count": 11,
   "metadata": {},
   "outputs": [
    {
     "name": "stdout",
     "output_type": "stream",
     "text": [
      "Number of rows with non-numeric values in the column: 29617\n"
     ]
    }
   ],
   "source": [
    "non_numeric = ~fico['FICO'].astype(str).str.isdigit()\n",
    "non_numeric_val = fico[non_numeric]\n",
    "\n",
    "print(\"Number of rows with non-numeric values in the column:\",len(non_numeric_val))"
   ]
  },
  {
   "cell_type": "markdown",
   "metadata": {},
   "source": [
    "    From the above result, we can see that there are two non-numeric values \"AA\", \"SSS\" in the FICO column along with NA\n",
    "    Replace NAs, errors (\"AA\", \"SSS\") with \"Missing\" in FICO column"
   ]
  },
  {
   "cell_type": "code",
   "execution_count": 12,
   "metadata": {},
   "outputs": [
    {
     "name": "stdout",
     "output_type": "stream",
     "text": [
      "Number of rows marked with 'Missing': 29617\n"
     ]
    }
   ],
   "source": [
    "# Replace NAs and errors with \"Missing\"\n",
    "fico['FICO'] = fico['FICO'].apply(lambda x: \"Missing\" if not str(x).replace('.', '', 1).isdigit() else x)\n",
    "\n",
    "print(\"Number of rows marked with 'Missing':\",len(fico[fico['FICO'] == \"Missing\"]))"
   ]
  },
  {
   "cell_type": "markdown",
   "metadata": {},
   "source": [
    "#### Check duplicates"
   ]
  },
  {
   "cell_type": "code",
   "execution_count": 13,
   "metadata": {},
   "outputs": [
    {
     "name": "stdout",
     "output_type": "stream",
     "text": [
      "Number of duplicate rows in FICO dataset: 13\n",
      "Duplicate rows:\n",
      "        acct_id     FICO\n",
      "140        140      752\n",
      "190        189      745\n",
      "192        190      828\n",
      "194        191      752\n",
      "196        192      850\n",
      "30506    30501      773\n",
      "30508    30502      798\n",
      "30510    30503      820\n",
      "30512    30504  Missing\n",
      "30514    30505      820\n",
      "30516    30506  Missing\n",
      "30518    30507  Missing\n",
      "30520    30508      850\n"
     ]
    }
   ],
   "source": [
    "# Check duplicates in the dataset - 13 duplicates found\n",
    "duplicate_count = fico.duplicated().sum()\n",
    "print(\"Number of duplicate rows in FICO dataset:\", duplicate_count)\n",
    "\n",
    "duplicate_rows = fico[fico.duplicated()]\n",
    "print(\"Duplicate rows:\\n\",duplicate_rows)"
   ]
  },
  {
   "cell_type": "code",
   "execution_count": 14,
   "metadata": {},
   "outputs": [
    {
     "data": {
      "text/plain": [
       "(100000, 2)"
      ]
     },
     "execution_count": 14,
     "metadata": {},
     "output_type": "execute_result"
    }
   ],
   "source": [
    "# Drop the duplicate rows - After dropping duplicates, found 100000 unique rows\n",
    "\n",
    "fico_clean = fico.drop_duplicates()\n",
    "fico_clean.shape"
   ]
  },
  {
   "cell_type": "code",
   "execution_count": 15,
   "metadata": {},
   "outputs": [
    {
     "data": {
      "text/plain": [
       "count      100000\n",
       "unique        376\n",
       "top       Missing\n",
       "freq        29614\n",
       "Name: FICO, dtype: object"
      ]
     },
     "execution_count": 15,
     "metadata": {},
     "output_type": "execute_result"
    }
   ],
   "source": [
    "# FICO col description\n",
    "fico_clean['FICO'].describe()"
   ]
  },
  {
   "cell_type": "code",
   "execution_count": null,
   "metadata": {},
   "outputs": [],
   "source": []
  },
  {
   "cell_type": "markdown",
   "metadata": {},
   "source": [
    "### Summary: 1.a\n",
    "    The given FICO dataset contains two columns - acct_id and FICO scores.\n",
    "    - There are 100013 records and 2 columns\n",
    "    - Out of these records, acct_id has 100000 unique values and no NAs\n",
    "    - FICO column has 29515 null values and 377 unique FICO values\n",
    "    - FICO column has two non-numeric values - \"AA\", \"SSS\"\n",
    "    - Marked all the rows with data errors(NAs, \"AA\", \"SSS\") with 'Missing': 29617 rows in total (29615 NAs + 2 non-numeric)\n",
    "    - There are 13 duplicate rows in FICO dataset. I have dropped the duplicates and obtained a cleaned dataset\n",
    "    - At the end of data cleaning step there are 100000 rows and 2 columns"
   ]
  },
  {
   "cell_type": "markdown",
   "metadata": {},
   "source": [
    "### Q1.b)\n",
    "    Think about what you know about credit score. Segment the FICO scores into 5 groups. Give your reasoning for the bucketing. Display the number of customers and percentage of each segments in your answer, and create a histogram of the distribution if you are using Python."
   ]
  },
  {
   "cell_type": "markdown",
   "metadata": {},
   "source": [
    "    - FICO score is a 3 digit number which tells the credit score. It helps the banks and other financial institution (lenders) understand the risk associated with a customer - how likey is the customer trusted to repay the loans. Higher the FICO scores, better is the profile of the customer. These scores are also used to determine the rate of interest on a loan request from a customer.\n",
    "    - The range of FICO scores are 300 - 850. \n",
    "    - Exploring the scores in the FICO dataset below"
   ]
  },
  {
   "cell_type": "code",
   "execution_count": 16,
   "metadata": {},
   "outputs": [
    {
     "name": "stdout",
     "output_type": "stream",
     "text": [
      "Minimum FICO: 420\n",
      "Maximum FICO: 850\n"
     ]
    }
   ],
   "source": [
    "# Removing 'Missing' from FICO col and get the minimum and maximum FICO from this dataset\n",
    "fico_clean_upd = fico_clean[fico_clean['FICO'] != \"Missing\"]\n",
    "fico_clean_upd['FICO'] = pd.to_numeric(fico_clean_upd['FICO'], errors = 'coerce')\n",
    "\n",
    "\n",
    "print(\"Minimum FICO:\", min(fico_clean_upd['FICO']))\n",
    "print(\"Maximum FICO:\", max(fico_clean_upd['FICO']))"
   ]
  },
  {
   "cell_type": "code",
   "execution_count": 17,
   "metadata": {},
   "outputs": [
    {
     "data": {
      "text/plain": [
       "(70386, 2)"
      ]
     },
     "execution_count": 17,
     "metadata": {},
     "output_type": "execute_result"
    }
   ],
   "source": [
    "# Shape of the dataset after removig \"Missing\" values\n",
    "fico_clean_upd.shape"
   ]
  },
  {
   "cell_type": "markdown",
   "metadata": {},
   "source": [
    "### In the give dataset the minimum FICO is 420 amd max FICO is 850. But in realing the FICO can range between 300 to 850. So in order to segment the FICO scores into 5 groups, it is ideally to consider the range 300 to 850. Hence, I have segmented the FICO scores evenly as below:\n",
    "    300 - 410\n",
    "    410 - 520\n",
    "    520 - 630\n",
    "    630 - 740\n",
    "    740 - 850"
   ]
  },
  {
   "cell_type": "code",
   "execution_count": 18,
   "metadata": {},
   "outputs": [
    {
     "name": "stdout",
     "output_type": "stream",
     "text": [
      "Frequency of FICO buckets:\n",
      "\n",
      "FICO Very Low_[300-410]         0\n",
      "FICO Low_[410-520]            163\n",
      "FICO Medium_[520-630]        1669\n",
      "FICO High_[630-740]         13553\n",
      "FICO Excellent_[740-850]    55001\n",
      "Name: Bucket, dtype: int64\n"
     ]
    }
   ],
   "source": [
    "num_buckets = 5\n",
    "bins = [300, 410, 520, 630, 740, 850]\n",
    "buckets =[\"FICO Very Low_[300-410]\",\"FICO Low_[410-520]\",\"FICO Medium_[520-630]\",\"FICO High_[630-740]\",\"FICO Excellent_[740-850]\"]\n",
    "fico_clean_upd['Bucket'] = pd.cut(fico_clean_upd['FICO'], bins, labels = buckets, right = True)\n",
    "\n",
    "#Calculating frequency\n",
    "bucket_frequency = fico_clean_upd['Bucket'].value_counts().sort_index()\n",
    "\n",
    "print(\"Frequency of FICO buckets:\\n\")\n",
    "print(bucket_frequency)"
   ]
  },
  {
   "cell_type": "markdown",
   "metadata": {},
   "source": [
    "#### Display the number of customers and percentage of each segments in your answer"
   ]
  },
  {
   "cell_type": "code",
   "execution_count": 19,
   "metadata": {},
   "outputs": [
    {
     "name": "stdout",
     "output_type": "stream",
     "text": [
      "\n",
      "                      Bucket  Count  Percentage (%)\n",
      "0   FICO Very Low_[300-410]      0         0.00000\n",
      "1        FICO Low_[410-520]    163         0.23158\n",
      "2     FICO Medium_[520-630]   1669         2.37121\n",
      "3       FICO High_[630-740]  13553        19.25525\n",
      "4  FICO Excellent_[740-850]  55001        78.14196\n"
     ]
    }
   ],
   "source": [
    "# Calculating frequency and percentage of each bucket\n",
    "bucket_frequency = fico_clean_upd['Bucket'].value_counts().sort_index()\n",
    "bucket_percentage = (bucket_frequency / fico_clean_upd.shape[0]) * 100\n",
    "\n",
    "# Combine results into a DataFrame for clarity\n",
    "bucket_stats = pd.DataFrame({\n",
    "    'Bucket': bucket_frequency.index,\n",
    "    'Count': bucket_frequency.values,\n",
    "    'Percentage (%)': bucket_percentage.values\n",
    "})\n",
    "print(\"\\n\", bucket_stats)"
   ]
  },
  {
   "cell_type": "markdown",
   "metadata": {},
   "source": [
    "### Histogram of the distribution"
   ]
  },
  {
   "cell_type": "code",
   "execution_count": 20,
   "metadata": {},
   "outputs": [
    {
     "data": {
      "image/png": "[encoded data removed]",
      "text/plain": [
       "<Figure size 576x432 with 1 Axes>"
      ]
     },
     "metadata": {
      "needs_background": "light"
     },
     "output_type": "display_data"
    }
   ],
   "source": [
    "# Plot the histogram of the FICO scores\n",
    "plt.figure(figsize=(8, 6))\n",
    "plt.hist(fico_clean_upd['FICO'], bins=40, edgecolor='black', alpha=0.7)\n",
    "plt.title('FICO Score Distribution')\n",
    "plt.xlabel('FICO Score')\n",
    "plt.ylabel('Frequency')\n",
    "plt.show()"
   ]
  },
  {
   "cell_type": "code",
   "execution_count": 21,
   "metadata": {},
   "outputs": [
    {
     "data": {
      "image/png": "[encoded data removed]",
      "text/plain": [
       "<Figure size 576x432 with 1 Axes>"
      ]
     },
     "metadata": {
      "needs_background": "light"
     },
     "output_type": "display_data"
    }
   ],
   "source": [
    "# Same plot with 30 bins\n",
    "plt.figure(figsize=(8, 6))\n",
    "plt.hist(fico_clean_upd['FICO'], density=True, bins=30,edgecolor='black')\n",
    "plt.show()"
   ]
  },
  {
   "cell_type": "markdown",
   "metadata": {},
   "source": [
    "### Bucket-wise distribution"
   ]
  },
  {
   "cell_type": "code",
   "execution_count": 22,
   "metadata": {},
   "outputs": [
    {
     "data": {
      "image/png": "[encoded data removed]",
      "text/plain": [
       "<Figure size 576x432 with 1 Axes>"
      ]
     },
     "metadata": {
      "needs_background": "light"
     },
     "output_type": "display_data"
    }
   ],
   "source": [
    "plt.figure(figsize=(8, 6))\n",
    "fico_clean_upd['Bucket'].value_counts().plot.bar()\n",
    "plt.show()"
   ]
  },
  {
   "cell_type": "markdown",
   "metadata": {},
   "source": [
    "### Summary 1.b\n",
    "    - FICO scores range from 300 - 850. In our dataset, the lowest is 420 and higest is 850.\n",
    "    - I have divided the FICO in to buckets beginnig from 300, 410, 520, 630, 740, 850 into Very low, Low, Medium, High and Excellent buckets\n",
    "    - \n",
    "    FICO Bucket number of customers and Percentage:\n",
    "                        Bucket  Count     Percentage (%)\n",
    "       FICO Very Low_[300-410]      0         0.00000\n",
    "            FICO Low_[410-520]    163         0.23158\n",
    "         FICO Medium_[520-630]   1669         2.37121\n",
    "           FICO High_[630-740]  13553        19.25525\n",
    "      FICO Excellent_[740-850]  55001        78.14196"
   ]
  },
  {
   "cell_type": "markdown",
   "metadata": {},
   "source": [
    "### Q1.c\n",
    "    Do you notice anything particular about this distribution? Do you think this reflects what’s happening in the real world?\n",
    "    \n",
    "    - The largest segment is the bucket  [740-850], which contains almost 80% of the customers, indicating that most customers have higher FICO scores. The dataset is skewed towards high FICO scores. Buckets with Very_Low and Low scores have extremely low percentages of customers. This is not typical in reality. \n",
    "    - The given dataset doesn't seem to resemble what is happening in the real world. It seems like this is a biased sample (high FICO score accepted scenario).   \n",
    "    - In real world data, I would expect the distribution to follow near normal distribution where we might see high density in the middle buckets and relatively lower density in the Very Low and Excellent buckets."
   ]
  },
  {
   "cell_type": "markdown",
   "metadata": {},
   "source": [
    "### Q2.  Now that you have a clean dataset for FICO. Create a temp table to store the information of FICO score and region for each customer. \n",
    "    Make sure the customer id is the same for each record. Display the regions which have the second highest and lowest average FICO score. The result of your query should display only two rows showing the region and its average FICO score. Make sure you provide all the interim steps if needed in your final submission."
   ]
  },
  {
   "cell_type": "markdown",
   "metadata": {},
   "source": [
    "### Import Region dataset"
   ]
  },
  {
   "cell_type": "code",
   "execution_count": 23,
   "metadata": {},
   "outputs": [
    {
     "data": {
      "text/plain": [
       "(100173, 2)"
      ]
     },
     "execution_count": 23,
     "metadata": {},
     "output_type": "execute_result"
    }
   ],
   "source": [
    "region = pd.read_csv('D:/Anagha/Masters/NYU GSAS/Job Hunt/American Express/Campus Graduate - 2025 Data Science Finance Summer Internship New York, NY/Data Challenge/FDS_intern_written_test_data1_region.csv')\n",
    "region.shape"
   ]
  },
  {
   "cell_type": "code",
   "execution_count": 24,
   "metadata": {},
   "outputs": [
    {
     "data": {
      "text/plain": [
       "(100173, 2)"
      ]
     },
     "execution_count": 24,
     "metadata": {},
     "output_type": "execute_result"
    }
   ],
   "source": [
    "# The sahpe of region data set - (100173, 2)\n",
    "region.shape"
   ]
  },
  {
   "cell_type": "code",
   "execution_count": 25,
   "metadata": {},
   "outputs": [
    {
     "name": "stdout",
     "output_type": "stream",
     "text": [
      "<class 'pandas.core.frame.DataFrame'>\n",
      "RangeIndex: 100173 entries, 0 to 100172\n",
      "Data columns (total 2 columns):\n",
      " #   Column   Non-Null Count   Dtype \n",
      "---  ------   --------------   ----- \n",
      " 0   acct_id  100173 non-null  int64 \n",
      " 1   region   100173 non-null  object\n",
      "dtypes: int64(1), object(1)\n",
      "memory usage: 1.5+ MB\n"
     ]
    }
   ],
   "source": [
    "# Region has two columns - acct_id and region. No NAs present.\n",
    "region.info()"
   ]
  },
  {
   "cell_type": "code",
   "execution_count": 26,
   "metadata": {},
   "outputs": [
    {
     "data": {
      "text/plain": [
       "Dallas          10227\n",
       "San Antonio     10171\n",
       "Charlotte       10038\n",
       "Los Angeles     10038\n",
       "New York        10022\n",
       "Chicago         10005\n",
       "Houston          9924\n",
       "Phoenix          9924\n",
       "Philadelphia     9913\n",
       "San Diego        9911\n",
       "Name: region, dtype: int64"
      ]
     },
     "execution_count": 26,
     "metadata": {},
     "output_type": "execute_result"
    }
   ],
   "source": [
    "# There are 10 unique regions in this dataset and they are -\n",
    "region['region'].value_counts()"
   ]
  },
  {
   "cell_type": "markdown",
   "metadata": {},
   "source": [
    "### \n",
    "    - Region dataset has 100173 rows and 2 columns.\n",
    "    - acct_id and region (categorical columns)\n",
    "    - There are 10 regions in this dataset"
   ]
  },
  {
   "cell_type": "markdown",
   "metadata": {},
   "source": [
    "### Check for duplicates"
   ]
  },
  {
   "cell_type": "code",
   "execution_count": 27,
   "metadata": {
    "scrolled": true
   },
   "outputs": [
    {
     "name": "stdout",
     "output_type": "stream",
     "text": [
      "Number of rows before removing duplicates: 100173\n",
      "Number of duplicate rows: (49, 2)\n",
      "Number of rows after removing duplicates: 100124\n"
     ]
    }
   ],
   "source": [
    "region_duplicates = region[region.duplicated()]\n",
    "print(\"Number of rows before removing duplicates:\", region.shape[0])\n",
    "print(\"Number of duplicate rows:\", region_duplicates.shape)\n",
    "\n",
    "region_no_duplicates = region.drop_duplicates()\n",
    "print(\"Number of rows after removing duplicates:\", region_no_duplicates.shape[0])"
   ]
  },
  {
   "cell_type": "markdown",
   "metadata": {},
   "source": [
    "### Merging the cleaned FICO data set with cleaned region dataset"
   ]
  },
  {
   "cell_type": "code",
   "execution_count": 28,
   "metadata": {},
   "outputs": [
    {
     "name": "stdout",
     "output_type": "stream",
     "text": [
      "<class 'pandas.core.frame.DataFrame'>\n",
      "Int64Index: 70386 entries, 0 to 100004\n",
      "Data columns (total 3 columns):\n",
      " #   Column   Non-Null Count  Dtype   \n",
      "---  ------   --------------  -----   \n",
      " 0   acct_id  70386 non-null  int64   \n",
      " 1   FICO     70386 non-null  int64   \n",
      " 2   Bucket   70386 non-null  category\n",
      "dtypes: category(1), int64(2)\n",
      "memory usage: 1.7 MB\n"
     ]
    }
   ],
   "source": [
    "fico_clean_upd.info()"
   ]
  },
  {
   "cell_type": "code",
   "execution_count": 29,
   "metadata": {},
   "outputs": [
    {
     "name": "stdout",
     "output_type": "stream",
     "text": [
      "Shape of merged dataset: (70510, 4)\n"
     ]
    }
   ],
   "source": [
    "cust_data = pd.merge(fico_clean_upd, region_no_duplicates, on = 'acct_id', how = 'left')\n",
    "print(\"Shape of merged dataset:\",cust_data.shape)"
   ]
  },
  {
   "cell_type": "code",
   "execution_count": 30,
   "metadata": {},
   "outputs": [
    {
     "name": "stdout",
     "output_type": "stream",
     "text": [
      "<class 'pandas.core.frame.DataFrame'>\n",
      "Int64Index: 70510 entries, 0 to 70509\n",
      "Data columns (total 4 columns):\n",
      " #   Column   Non-Null Count  Dtype   \n",
      "---  ------   --------------  -----   \n",
      " 0   acct_id  70510 non-null  int64   \n",
      " 1   FICO     70510 non-null  int64   \n",
      " 2   Bucket   70510 non-null  category\n",
      " 3   region   70510 non-null  object  \n",
      "dtypes: category(1), int64(2), object(1)\n",
      "memory usage: 2.2+ MB\n"
     ]
    }
   ],
   "source": [
    "cust_data.info()"
   ]
  },
  {
   "cell_type": "code",
   "execution_count": 31,
   "metadata": {},
   "outputs": [
    {
     "data": {
      "text/plain": [
       "124"
      ]
     },
     "execution_count": 31,
     "metadata": {},
     "output_type": "execute_result"
    }
   ],
   "source": [
    "# 124 acct_id's have multiple regions from the below calculation.\n",
    "# I am not treating them now.\n",
    "\n",
    "cust_data.shape[0] - fico_clean_upd.shape[0]"
   ]
  },
  {
   "cell_type": "code",
   "execution_count": 32,
   "metadata": {},
   "outputs": [
    {
     "data": {
      "text/html": [
       "<div>\n",
       "<style scoped>\n",
       "    .dataframe tbody tr th:only-of-type {\n",
       "        vertical-align: middle;\n",
       "    }\n",
       "\n",
       "    .dataframe tbody tr th {\n",
       "        vertical-align: top;\n",
       "    }\n",
       "\n",
       "    .dataframe thead th {\n",
       "        text-align: right;\n",
       "    }\n",
       "</style>\n",
       "<table border=\"1\" class=\"dataframe\">\n",
       "  <thead>\n",
       "    <tr style=\"text-align: right;\">\n",
       "      <th></th>\n",
       "      <th>acct_id</th>\n",
       "      <th>FICO</th>\n",
       "      <th>Bucket</th>\n",
       "      <th>region</th>\n",
       "    </tr>\n",
       "  </thead>\n",
       "  <tbody>\n",
       "    <tr>\n",
       "      <th>0</th>\n",
       "      <td>1</td>\n",
       "      <td>768</td>\n",
       "      <td>FICO Excellent_[740-850]</td>\n",
       "      <td>New York</td>\n",
       "    </tr>\n",
       "    <tr>\n",
       "      <th>1</th>\n",
       "      <td>2</td>\n",
       "      <td>850</td>\n",
       "      <td>FICO Excellent_[740-850]</td>\n",
       "      <td>Dallas</td>\n",
       "    </tr>\n",
       "    <tr>\n",
       "      <th>2</th>\n",
       "      <td>3</td>\n",
       "      <td>677</td>\n",
       "      <td>FICO High_[630-740]</td>\n",
       "      <td>Los Angeles</td>\n",
       "    </tr>\n",
       "    <tr>\n",
       "      <th>3</th>\n",
       "      <td>4</td>\n",
       "      <td>843</td>\n",
       "      <td>FICO Excellent_[740-850]</td>\n",
       "      <td>Chicago</td>\n",
       "    </tr>\n",
       "    <tr>\n",
       "      <th>4</th>\n",
       "      <td>5</td>\n",
       "      <td>796</td>\n",
       "      <td>FICO Excellent_[740-850]</td>\n",
       "      <td>Philadelphia</td>\n",
       "    </tr>\n",
       "  </tbody>\n",
       "</table>\n",
       "</div>"
      ],
      "text/plain": [
       "   acct_id  FICO                    Bucket        region\n",
       "0        1   768  FICO Excellent_[740-850]      New York\n",
       "1        2   850  FICO Excellent_[740-850]        Dallas\n",
       "2        3   677       FICO High_[630-740]   Los Angeles\n",
       "3        4   843  FICO Excellent_[740-850]       Chicago\n",
       "4        5   796  FICO Excellent_[740-850]  Philadelphia"
      ]
     },
     "execution_count": 32,
     "metadata": {},
     "output_type": "execute_result"
    }
   ],
   "source": [
    "cust_data.head()"
   ]
  },
  {
   "cell_type": "markdown",
   "metadata": {},
   "source": [
    "### Computing the average FICO for each region\n",
    "- using groupby to group by region"
   ]
  },
  {
   "cell_type": "code",
   "execution_count": 33,
   "metadata": {},
   "outputs": [
    {
     "data": {
      "text/plain": [
       "region\n",
       "Charlotte       785.154280\n",
       "Chicago         785.643043\n",
       "Dallas          782.102021\n",
       "Houston         786.005803\n",
       "Los Angeles     787.223002\n",
       "New York        785.065903\n",
       "Philadelphia    785.773845\n",
       "Phoenix         788.170231\n",
       "San Antonio     784.508277\n",
       "San Diego       784.076447\n",
       "Name: FICO, dtype: float64"
      ]
     },
     "execution_count": 33,
     "metadata": {},
     "output_type": "execute_result"
    }
   ],
   "source": [
    "cust_data.groupby('region')['FICO'].mean()"
   ]
  },
  {
   "cell_type": "code",
   "execution_count": 34,
   "metadata": {},
   "outputs": [
    {
     "name": "stdout",
     "output_type": "stream",
     "text": [
      "Average FICO for each region:\n",
      "\n",
      "         region    FICO_avg\n",
      "0     Charlotte  785.154280\n",
      "1       Chicago  785.643043\n",
      "2        Dallas  782.102021\n",
      "3       Houston  786.005803\n",
      "4   Los Angeles  787.223002\n",
      "5      New York  785.065903\n",
      "6  Philadelphia  785.773845\n",
      "7       Phoenix  788.170231\n",
      "8   San Antonio  784.508277\n",
      "9     San Diego  784.076447\n"
     ]
    }
   ],
   "source": [
    "region_avg = cust_data.groupby('region')['FICO'].mean().reset_index()\n",
    "region_avg.columns = ['region', 'FICO_avg']\n",
    "print(\"Average FICO for each region:\\n\")\n",
    "print(region_avg)"
   ]
  },
  {
   "cell_type": "code",
   "execution_count": 35,
   "metadata": {},
   "outputs": [
    {
     "name": "stdout",
     "output_type": "stream",
     "text": [
      "   index        region    FICO_avg  rank_asc  rank_desc\n",
      "0      2        Dallas  782.102021       1.0       10.0\n",
      "1      9     San Diego  784.076447       2.0        9.0\n",
      "2      8   San Antonio  784.508277       3.0        8.0\n",
      "3      5      New York  785.065903       4.0        7.0\n",
      "4      0     Charlotte  785.154280       5.0        6.0\n",
      "5      1       Chicago  785.643043       6.0        5.0\n",
      "6      6  Philadelphia  785.773845       7.0        4.0\n",
      "7      3       Houston  786.005803       8.0        3.0\n",
      "8      4   Los Angeles  787.223002       9.0        2.0\n",
      "9      7       Phoenix  788.170231      10.0        1.0\n"
     ]
    }
   ],
   "source": [
    "# Assign ranks\n",
    "region_avg['rank_asc'] = region_avg['FICO_avg'].rank(method = 'dense')\n",
    "region_avg['rank_desc']= region_avg['FICO_avg'].rank(method = 'dense', ascending = False)\n",
    "region_avg_sorted = region_avg.sort_values(by = 'rank_asc', ascending = True).reset_index()\n",
    "region_avg_sorted\n",
    "\n",
    "print(region_avg_sorted)"
   ]
  },
  {
   "cell_type": "markdown",
   "metadata": {},
   "source": [
    "### Display the regions which have the second highest and lowest average FICO score. "
   ]
  },
  {
   "cell_type": "code",
   "execution_count": 36,
   "metadata": {},
   "outputs": [
    {
     "name": "stdout",
     "output_type": "stream",
     "text": [
      "Regions with second highest and lowest average FICO:\n"
     ]
    },
    {
     "data": {
      "text/html": [
       "<div>\n",
       "<style scoped>\n",
       "    .dataframe tbody tr th:only-of-type {\n",
       "        vertical-align: middle;\n",
       "    }\n",
       "\n",
       "    .dataframe tbody tr th {\n",
       "        vertical-align: top;\n",
       "    }\n",
       "\n",
       "    .dataframe thead th {\n",
       "        text-align: right;\n",
       "    }\n",
       "</style>\n",
       "<table border=\"1\" class=\"dataframe\">\n",
       "  <thead>\n",
       "    <tr style=\"text-align: right;\">\n",
       "      <th></th>\n",
       "      <th>region</th>\n",
       "      <th>FICO_avg</th>\n",
       "    </tr>\n",
       "  </thead>\n",
       "  <tbody>\n",
       "    <tr>\n",
       "      <th>4</th>\n",
       "      <td>Los Angeles</td>\n",
       "      <td>787.223002</td>\n",
       "    </tr>\n",
       "    <tr>\n",
       "      <th>9</th>\n",
       "      <td>San Diego</td>\n",
       "      <td>784.076447</td>\n",
       "    </tr>\n",
       "  </tbody>\n",
       "</table>\n",
       "</div>"
      ],
      "text/plain": [
       "        region    FICO_avg\n",
       "4  Los Angeles  787.223002\n",
       "9    San Diego  784.076447"
      ]
     },
     "execution_count": 36,
     "metadata": {},
     "output_type": "execute_result"
    }
   ],
   "source": [
    "result = region_avg[(region_avg['rank_asc'] == 2) | (region_avg['rank_desc'] == 2)][['region', 'FICO_avg']]\n",
    "print(\"Regions with second highest and lowest average FICO:\")\n",
    "result"
   ]
  },
  {
   "cell_type": "markdown",
   "metadata": {},
   "source": [
    "### Summary 2:\n",
    "    - Region dataset has 100173 rows and 2 columns.acct_id and region (categorical columns)\n",
    "    - There are 10 regions in this dataset\n",
    "    - There were 49 duplicate rows and the data was cleaned to remove duplicates, final shape of the dataset after cleaning (100124, 2)\n",
    "    - There ate 124 accounts IDs with multiple regions, I have not treated this for now.\n",
    "    - To get the average FICO across all regions, we have to merge the FICO dataset and Region dataset.\n",
    "    - Calculate the average using groupby and aggregate functions:\n",
    "    Average FICO for each region:\n",
    "             region    FICO_avg\n",
    "    0     Charlotte  785.154280\n",
    "    1       Chicago  785.643043\n",
    "    2        Dallas  782.102021\n",
    "    3       Houston  786.005803\n",
    "    4   Los Angeles  787.223002\n",
    "    5      New York  785.065903\n",
    "    6  Philadelphia  785.773845\n",
    "    7       Phoenix  788.170231\n",
    "    8   San Antonio  784.508277\n",
    "    9     San Diego  784.076447\n",
    "    \n",
    "    - The regions with second highest and lowest average was calculated using rank() function: Los Angeles (787.22) and San Diego (784.07) respectively\n",
    "    \n",
    "        region\tFICO_avg\n",
    "    4\tLos Angeles\t787.223002\n",
    "    9\tSan Diego\t784.076447"
   ]
  },
  {
   "cell_type": "code",
   "execution_count": null,
   "metadata": {},
   "outputs": [],
   "source": []
  }
 ],
 "metadata": {
  "kernelspec": {
   "display_name": "Python 3",
   "language": "python",
   "name": "python3"
  },
  "language_info": {
   "codemirror_mode": {
    "name": "ipython",
    "version": 3
   },
   "file_extension": ".py",
   "mimetype": "text/x-python",
   "name": "python",
   "nbconvert_exporter": "python",
   "pygments_lexer": "ipython3",
   "version": "3.8.5"
  }
 },
 "nbformat": 4,
 "nbformat_minor": 4
}
